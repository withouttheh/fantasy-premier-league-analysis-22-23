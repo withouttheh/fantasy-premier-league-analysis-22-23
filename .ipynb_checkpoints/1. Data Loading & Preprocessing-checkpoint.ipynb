{
 "cells": [
  {
   "cell_type": "markdown",
   "id": "34a95ebd",
   "metadata": {},
   "source": [
    "# Fantasy Premier League 2022/2023 Season Analysis:\n",
    "\n",
    "**This notebook covers how to access the Fantasy Premier League API, build a dataframe, and analyze  the data using Jupyter, Python, Pandas, and Matplotlib.**\n",
    "\n",
    "**About the game**: Each FPL manager is given a starting budget of £100 million and must pick a total of 15 players: two goalkeepers, five defenders, five midfielders and three forwards. You are limited to a maximum of three players from each Premier League team. Players in your team score points based on real-life performances with the biggest contributors being goals, assists and cleansheets.\n",
    "\n",
    "**Analysis Limits**: The data used in this notebook includes all season totals at the end of Gameweek 38 of the 2022/2023 season. This is more of a season overview analysis than a week-to-week analysis, therefore, form and fixtures were not accounted for.  I have created a 'price range' category to make the analysis more accurate as price changes generally happen within their price range."
   ]
  },
  {
   "cell_type": "markdown",
   "id": "dfe56e5e",
   "metadata": {},
   "source": [
    "## 1. Data Loading\n",
    "\n",
    "First, we import the necessary libraries that we will use throughout the analysis. We then use the requests library retrieve data via the FPL API endpoint. (https://fantasy.premierleague.com/api/bootstrap-static/). The next step is to convert the response data into a json object and then again into a pandas Dataframe. \n"
   ]
  },
  {
   "cell_type": "code",
   "execution_count": 1,
   "id": "3ce0184b",
   "metadata": {},
   "outputs": [],
   "source": [
    "import requests\n",
    "import pandas as pd\n",
    "import numpy as np"
   ]
  },
  {
   "cell_type": "code",
   "execution_count": 3,
   "id": "c1f69496",
   "metadata": {},
   "outputs": [],
   "source": [
    "#Get data and convert to json\n",
    "\n",
    "url = 'https://fantasy.premierleague.com/api/bootstrap-static/'\n",
    "r = requests.get(url)\n",
    "fpl_json = r.json()"
   ]
  },
  {
   "cell_type": "code",
   "execution_count": 4,
   "id": "766c7210",
   "metadata": {},
   "outputs": [
    {
     "data": {
      "text/plain": [
       "dict_keys(['elements', 'element_types', 'element_stats', 'events', 'fixtures', 'settings', 'teams'])"
      ]
     },
     "execution_count": 4,
     "metadata": {},
     "output_type": "execute_result"
    }
   ],
   "source": [
    "#View dict keys\n",
    "fpl_json.keys()"
   ]
  },
  {
   "cell_type": "code",
   "execution_count": 5,
   "id": "f356d289",
   "metadata": {},
   "outputs": [],
   "source": [
    "#Convert json objects to dataframe. \n",
    "elements_df = pd.DataFrame(fpl_json['elements'])\n",
    "elements_types_df = pd.DataFrame(fpl_json['element_types'])\n",
    "element_stats_df = pd.DataFrame(fpl_json['element_stats'])\n",
    "teams_df = pd.DataFrame(fpl_json['teams'])\n",
    "\n",
    "#Save as csv\n",
    "elements_df.to_csv('data/22_23_season_data/elements.csv')\n",
    "elements_types_df.to_csv('data/22_23_season_data/element_types.csv')\n",
    "element_stats_df.to_csv('data/22_23_season_data/element_stats.csv')\n",
    "teams_df.to_csv('data/22_23_season_data/teams.csv')"
   ]
  },
  {
   "cell_type": "markdown",
   "id": "b4c503c3",
   "metadata": {},
   "source": [
    "## 2. Data Cleaning"
   ]
  },
  {
   "cell_type": "markdown",
   "id": "392225e0",
   "metadata": {},
   "source": [
    "The next step involves cleaing the data"
   ]
  },
  {
   "cell_type": "markdown",
   "id": "773901b3",
   "metadata": {},
   "source": [
    "### Understand data"
   ]
  },
  {
   "cell_type": "code",
   "execution_count": 15,
   "id": "89c303c7",
   "metadata": {
    "scrolled": true
   },
   "outputs": [
    {
     "data": {
      "text/html": [
       "<div>\n",
       "<style scoped>\n",
       "    .dataframe tbody tr th:only-of-type {\n",
       "        vertical-align: middle;\n",
       "    }\n",
       "\n",
       "    .dataframe tbody tr th {\n",
       "        vertical-align: top;\n",
       "    }\n",
       "\n",
       "    .dataframe thead th {\n",
       "        text-align: right;\n",
       "    }\n",
       "</style>\n",
       "<table border=\"1\" class=\"dataframe\">\n",
       "  <thead>\n",
       "    <tr style=\"text-align: right;\">\n",
       "      <th></th>\n",
       "      <th>id</th>\n",
       "      <th>name</th>\n",
       "      <th>now_cost</th>\n",
       "      <th>position</th>\n",
       "      <th>team</th>\n",
       "      <th>clean_sheets_per_90</th>\n",
       "      <th>threat_rank_type</th>\n",
       "      <th>expected_assists_per_90</th>\n",
       "      <th>expected_assists</th>\n",
       "      <th>points_per_game_rank</th>\n",
       "      <th>...</th>\n",
       "      <th>threat_rank</th>\n",
       "      <th>ep_this</th>\n",
       "      <th>transfers_in</th>\n",
       "      <th>bps</th>\n",
       "      <th>goals_conceded_per_90</th>\n",
       "      <th>selected_by_percent</th>\n",
       "      <th>influence_rank_type</th>\n",
       "      <th>points_per_game_rank_type</th>\n",
       "      <th>clean_sheets</th>\n",
       "      <th>now_cost_rank</th>\n",
       "    </tr>\n",
       "  </thead>\n",
       "  <tbody>\n",
       "    <tr>\n",
       "      <th>0</th>\n",
       "      <td>3</td>\n",
       "      <td>Granit Xhaka</td>\n",
       "      <td>48</td>\n",
       "      <td>MID</td>\n",
       "      <td>Arsenal</td>\n",
       "      <td>0.39</td>\n",
       "      <td>38</td>\n",
       "      <td>0.12</td>\n",
       "      <td>3.89</td>\n",
       "      <td>47</td>\n",
       "      <td>...</td>\n",
       "      <td>62</td>\n",
       "      <td>7.3</td>\n",
       "      <td>942505</td>\n",
       "      <td>634</td>\n",
       "      <td>1.05</td>\n",
       "      <td>2.7</td>\n",
       "      <td>23</td>\n",
       "      <td>23</td>\n",
       "      <td>13</td>\n",
       "      <td>265</td>\n",
       "    </tr>\n",
       "    <tr>\n",
       "      <th>1</th>\n",
       "      <td>4</td>\n",
       "      <td>Mohamed Elneny</td>\n",
       "      <td>41</td>\n",
       "      <td>MID</td>\n",
       "      <td>Arsenal</td>\n",
       "      <td>0.00</td>\n",
       "      <td>233</td>\n",
       "      <td>0.03</td>\n",
       "      <td>0.04</td>\n",
       "      <td>457</td>\n",
       "      <td>...</td>\n",
       "      <td>593</td>\n",
       "      <td>0.0</td>\n",
       "      <td>202760</td>\n",
       "      <td>27</td>\n",
       "      <td>1.62</td>\n",
       "      <td>0.6</td>\n",
       "      <td>226</td>\n",
       "      <td>201</td>\n",
       "      <td>0</td>\n",
       "      <td>634</td>\n",
       "    </tr>\n",
       "    <tr>\n",
       "      <th>2</th>\n",
       "      <td>5</td>\n",
       "      <td>Rob Holding</td>\n",
       "      <td>42</td>\n",
       "      <td>DEF</td>\n",
       "      <td>Arsenal</td>\n",
       "      <td>0.00</td>\n",
       "      <td>118</td>\n",
       "      <td>0.02</td>\n",
       "      <td>0.15</td>\n",
       "      <td>405</td>\n",
       "      <td>...</td>\n",
       "      <td>341</td>\n",
       "      <td>0.7</td>\n",
       "      <td>23338</td>\n",
       "      <td>120</td>\n",
       "      <td>2.08</td>\n",
       "      <td>0.2</td>\n",
       "      <td>137</td>\n",
       "      <td>144</td>\n",
       "      <td>0</td>\n",
       "      <td>598</td>\n",
       "    </tr>\n",
       "    <tr>\n",
       "      <th>3</th>\n",
       "      <td>6</td>\n",
       "      <td>Thomas Partey</td>\n",
       "      <td>47</td>\n",
       "      <td>MID</td>\n",
       "      <td>Arsenal</td>\n",
       "      <td>0.40</td>\n",
       "      <td>90</td>\n",
       "      <td>0.08</td>\n",
       "      <td>2.17</td>\n",
       "      <td>210</td>\n",
       "      <td>...</td>\n",
       "      <td>152</td>\n",
       "      <td>1.9</td>\n",
       "      <td>110171</td>\n",
       "      <td>468</td>\n",
       "      <td>1.02</td>\n",
       "      <td>0.4</td>\n",
       "      <td>47</td>\n",
       "      <td>80</td>\n",
       "      <td>11</td>\n",
       "      <td>311</td>\n",
       "    </tr>\n",
       "    <tr>\n",
       "      <th>4</th>\n",
       "      <td>7</td>\n",
       "      <td>Martin Ødegaard</td>\n",
       "      <td>69</td>\n",
       "      <td>MID</td>\n",
       "      <td>Arsenal</td>\n",
       "      <td>0.37</td>\n",
       "      <td>8</td>\n",
       "      <td>0.23</td>\n",
       "      <td>8.02</td>\n",
       "      <td>7</td>\n",
       "      <td>...</td>\n",
       "      <td>18</td>\n",
       "      <td>6.9</td>\n",
       "      <td>7014051</td>\n",
       "      <td>813</td>\n",
       "      <td>1.09</td>\n",
       "      <td>33.3</td>\n",
       "      <td>3</td>\n",
       "      <td>3</td>\n",
       "      <td>13</td>\n",
       "      <td>44</td>\n",
       "    </tr>\n",
       "  </tbody>\n",
       "</table>\n",
       "<p>5 rows × 75 columns</p>\n",
       "</div>"
      ],
      "text/plain": [
       "   id             name  now_cost position     team  clean_sheets_per_90  \\\n",
       "0   3     Granit Xhaka        48      MID  Arsenal                 0.39   \n",
       "1   4   Mohamed Elneny        41      MID  Arsenal                 0.00   \n",
       "2   5      Rob Holding        42      DEF  Arsenal                 0.00   \n",
       "3   6    Thomas Partey        47      MID  Arsenal                 0.40   \n",
       "4   7  Martin Ødegaard        69      MID  Arsenal                 0.37   \n",
       "\n",
       "   threat_rank_type  expected_assists_per_90  expected_assists  \\\n",
       "0                38                     0.12              3.89   \n",
       "1               233                     0.03              0.04   \n",
       "2               118                     0.02              0.15   \n",
       "3                90                     0.08              2.17   \n",
       "4                 8                     0.23              8.02   \n",
       "\n",
       "   points_per_game_rank  ...  threat_rank  ep_this  transfers_in  bps  \\\n",
       "0                    47  ...           62      7.3        942505  634   \n",
       "1                   457  ...          593      0.0        202760   27   \n",
       "2                   405  ...          341      0.7         23338  120   \n",
       "3                   210  ...          152      1.9        110171  468   \n",
       "4                     7  ...           18      6.9       7014051  813   \n",
       "\n",
       "   goals_conceded_per_90  selected_by_percent  influence_rank_type  \\\n",
       "0                   1.05                  2.7                   23   \n",
       "1                   1.62                  0.6                  226   \n",
       "2                   2.08                  0.2                  137   \n",
       "3                   1.02                  0.4                   47   \n",
       "4                   1.09                 33.3                    3   \n",
       "\n",
       "   points_per_game_rank_type  clean_sheets  now_cost_rank  \n",
       "0                         23            13            265  \n",
       "1                        201             0            634  \n",
       "2                        144             0            598  \n",
       "3                         80            11            311  \n",
       "4                          3            13             44  \n",
       "\n",
       "[5 rows x 75 columns]"
      ]
     },
     "execution_count": 15,
     "metadata": {},
     "output_type": "execute_result"
    }
   ],
   "source": [
    "elements_df.head()"
   ]
  },
  {
   "cell_type": "code",
   "execution_count": 16,
   "id": "f62eb776",
   "metadata": {},
   "outputs": [
    {
     "data": {
      "text/plain": [
       "(778, 75)"
      ]
     },
     "execution_count": 16,
     "metadata": {},
     "output_type": "execute_result"
    }
   ],
   "source": [
    "elements_df.shape"
   ]
  },
  {
   "cell_type": "code",
   "execution_count": 17,
   "id": "9b010474",
   "metadata": {
    "scrolled": false
   },
   "outputs": [
    {
     "data": {
      "text/plain": [
       "Index(['id', 'name', 'now_cost', 'position', 'team', 'clean_sheets_per_90',\n",
       "       'threat_rank_type', 'expected_assists_per_90', 'expected_assists',\n",
       "       'points_per_game_rank', 'goals_scored', 'penalties_missed',\n",
       "       'creativity_rank_type', 'transfers_out', 'value_form',\n",
       "       'direct_freekicks_order', 'value_season', 'bonus', 'starts_per_90',\n",
       "       'cost_change_start', 'news_added', 'expected_goals_conceded',\n",
       "       'cost_change_start_fall', 'expected_goals_conceded_per_90', 'red_cards',\n",
       "       'threat', 'selected_rank_type', 'influence', 'penalties_saved',\n",
       "       'corners_and_indirect_freekicks_order', 'ep_next', 'event_points',\n",
       "       'web_name', 'creativity', 'ict_index_rank', 'saves_per_90',\n",
       "       'creativity_rank', 'expected_goals', 'own_goals', 'status',\n",
       "       'now_cost_rank_type', 'saves', 'yellow_cards', 'goals_conceded', 'news',\n",
       "       'expected_goal_involvements_per_90', 'assists', 'form_rank_type',\n",
       "       'ict_index_rank_type', 'chance_of_playing_next_round', 'influence_rank',\n",
       "       'penalties_order', 'ict_index', 'form', 'dreamteam_count',\n",
       "       'expected_goal_involvements', 'chance_of_playing_this_round', 'starts',\n",
       "       'points_per_game', 'minutes', 'total_points', 'in_dreamteam',\n",
       "       'form_rank', 'selected_rank', 'expected_goals_per_90', 'threat_rank',\n",
       "       'ep_this', 'transfers_in', 'bps', 'goals_conceded_per_90',\n",
       "       'selected_by_percent', 'influence_rank_type',\n",
       "       'points_per_game_rank_type', 'clean_sheets', 'now_cost_rank'],\n",
       "      dtype='object')"
      ]
     },
     "execution_count": 17,
     "metadata": {},
     "output_type": "execute_result"
    }
   ],
   "source": [
    "elements_df.columns"
   ]
  },
  {
   "cell_type": "markdown",
   "id": "f4ee9561",
   "metadata": {},
   "source": [
    "### Data Tansformation"
   ]
  },
  {
   "cell_type": "markdown",
   "id": "515047eb",
   "metadata": {},
   "source": [
    "Get only the interesting columns for analysis"
   ]
  },
  {
   "cell_type": "code",
   "execution_count": 23,
   "id": "c0d44e8d",
   "metadata": {
    "scrolled": false
   },
   "outputs": [],
   "source": [
    "cols = ['now_cost', 'position', 'team', 'clean_sheets_per_90',\n",
    "       'expected_assists_per_90', 'expected_assists',\n",
    "        'goals_scored', 'value_form', 'value_season', 'bonus',  'expected_goals_conceded',\n",
    "        'expected_goals_conceded_per_90', 'threat',  'influence', 'penalties_saved',\n",
    "       'web_name', 'creativity','expected_goals','saves', 'goals_conceded',\n",
    "       'expected_goal_involvements_per_90', 'assists', 'ict_index', 'form', \n",
    "        'dreamteam_count','expected_goal_involvements', 'starts',\n",
    "       'points_per_game', 'minutes', 'total_points',  'expected_goals_per_90', 'bps', 'goals_conceded_per_90',\n",
    "       'selected_by_percent','clean_sheets']\n",
    "\n",
    "df = elements_df[cols]"
   ]
  },
  {
   "cell_type": "markdown",
   "id": "38b5b7d8",
   "metadata": {},
   "source": [
    "Check data type"
   ]
  },
  {
   "cell_type": "code",
   "execution_count": 24,
   "id": "1a495276",
   "metadata": {
    "scrolled": true
   },
   "outputs": [
    {
     "data": {
      "text/plain": [
       "now_cost                               int64\n",
       "position                              object\n",
       "team                                  object\n",
       "clean_sheets_per_90                  float64\n",
       "expected_assists_per_90              float64\n",
       "expected_assists                     float64\n",
       "goals_scored                           int64\n",
       "value_form                           float64\n",
       "value_season                         float64\n",
       "bonus                                  int64\n",
       "expected_goals_conceded              float64\n",
       "expected_goals_conceded_per_90       float64\n",
       "threat                               float64\n",
       "influence                            float64\n",
       "penalties_saved                        int64\n",
       "web_name                              object\n",
       "creativity                           float64\n",
       "expected_goals                       float64\n",
       "saves                                  int64\n",
       "goals_conceded                         int64\n",
       "expected_goal_involvements_per_90    float64\n",
       "assists                                int64\n",
       "ict_index                            float64\n",
       "form                                 float64\n",
       "dreamteam_count                        int64\n",
       "expected_goal_involvements           float64\n",
       "starts                                 int64\n",
       "points_per_game                      float64\n",
       "minutes                                int64\n",
       "total_points                           int64\n",
       "expected_goals_per_90                float64\n",
       "bps                                    int64\n",
       "goals_conceded_per_90                float64\n",
       "selected_by_percent                  float64\n",
       "clean_sheets                           int64\n",
       "dtype: object"
      ]
     },
     "execution_count": 24,
     "metadata": {},
     "output_type": "execute_result"
    }
   ],
   "source": [
    "df.dtypes"
   ]
  },
  {
   "cell_type": "code",
   "execution_count": 27,
   "id": "eb529402",
   "metadata": {
    "scrolled": true
   },
   "outputs": [
    {
     "name": "stderr",
     "output_type": "stream",
     "text": [
      "C:\\Users\\Luto Sibotoboto\\AppData\\Local\\Programs\\Python\\Python39\\lib\\site-packages\\pandas\\core\\indexing.py:1743: SettingWithCopyWarning: \n",
      "A value is trying to be set on a copy of a slice from a DataFrame.\n",
      "Try using .loc[row_indexer,col_indexer] = value instead\n",
      "\n",
      "See the caveats in the documentation: https://pandas.pydata.org/pandas-docs/stable/user_guide/indexing.html#returning-a-view-versus-a-copy\n",
      "  isetter(ilocs[0], value)\n",
      "C:\\Users\\Luto Sibotoboto\\AppData\\Local\\Programs\\Python\\Python39\\lib\\site-packages\\pandas\\core\\indexing.py:1596: SettingWithCopyWarning: \n",
      "A value is trying to be set on a copy of a slice from a DataFrame.\n",
      "Try using .loc[row_indexer,col_indexer] = value instead\n",
      "\n",
      "See the caveats in the documentation: https://pandas.pydata.org/pandas-docs/stable/user_guide/indexing.html#returning-a-view-versus-a-copy\n",
      "  self.obj[key] = _infer_fill_value(value)\n"
     ]
    }
   ],
   "source": [
    "#Map team to team name\n",
    "team_codes =list(df['team'].unique())\n",
    "team_names = list(teams_df['short_name'].unique())\n",
    "teams_dict = dict(zip(team_codes, team_names))\n",
    "\n",
    "df.loc[:, 'team'] = df.loc[:,'team'].apply(lambda x: teams_dict[x])\n",
    "\n",
    "#Create cost column\n",
    "df.loc[:, 'price'] = df.loc[:,'now_cost'] / 10\n",
    "\n",
    "#Create G+A column\n",
    "\n",
    "df.loc[:, 'G+A'] = df.loc[:,'goals_scored'] + df.loc[:,'assists']"
   ]
  },
  {
   "cell_type": "markdown",
   "id": "49134a74",
   "metadata": {},
   "source": [
    "Drop uninteresting columns"
   ]
  },
  {
   "cell_type": "code",
   "execution_count": 29,
   "id": "8cf97cfe",
   "metadata": {},
   "outputs": [],
   "source": [
    "df = df.drop(['now_cost'], axis=1)"
   ]
  },
  {
   "cell_type": "markdown",
   "id": "ef8dc525",
   "metadata": {},
   "source": [
    "Check for duplicated rows"
   ]
  },
  {
   "cell_type": "code",
   "execution_count": 30,
   "id": "f30c995b",
   "metadata": {
    "scrolled": true
   },
   "outputs": [
    {
     "data": {
      "text/plain": [
       "0"
      ]
     },
     "execution_count": 30,
     "metadata": {},
     "output_type": "execute_result"
    }
   ],
   "source": [
    "df.duplicated().sum()"
   ]
  },
  {
   "cell_type": "markdown",
   "id": "12b27d8b",
   "metadata": {},
   "source": [
    "Discretization and Binning"
   ]
  },
  {
   "cell_type": "code",
   "execution_count": 31,
   "id": "ca5d5601",
   "metadata": {},
   "outputs": [
    {
     "data": {
      "text/plain": [
       "Index(['MID', 'DEF', 'FWD', 'GKP'], dtype='object')"
      ]
     },
     "execution_count": 31,
     "metadata": {},
     "output_type": "execute_result"
    }
   ],
   "source": [
    "df['position'].value_counts().index"
   ]
  },
  {
   "cell_type": "code",
   "execution_count": 40,
   "id": "ffef5720",
   "metadata": {
    "scrolled": true
   },
   "outputs": [
    {
     "name": "stderr",
     "output_type": "stream",
     "text": [
      "C:\\Users\\Luto Sibotoboto\\AppData\\Local\\Programs\\Python\\Python39\\lib\\site-packages\\pandas\\core\\indexing.py:1743: SettingWithCopyWarning: \n",
      "A value is trying to be set on a copy of a slice from a DataFrame.\n",
      "Try using .loc[row_indexer,col_indexer] = value instead\n",
      "\n",
      "See the caveats in the documentation: https://pandas.pydata.org/pandas-docs/stable/user_guide/indexing.html#returning-a-view-versus-a-copy\n",
      "  isetter(ilocs[0], value)\n"
     ]
    }
   ],
   "source": [
    "#Create labels\n",
    "labels = ['Budget', 'Mid', 'Premium']\n",
    "\n",
    "#Create bins\n",
    "gk_bins = [3.0, 5.0, 6.0, 7.0]\n",
    "def_bins = [3.0, 5.0, 6.0, 8.0]\n",
    "mid_bins = [3.0, 6.0, 9.0, 14.0]\n",
    "for_bins = [3.0, 6.0, 9.0, 14.0]\n",
    "\n",
    "#Create list of tuples\n",
    "tup = [(df, gk_bins, 'GKP', labels),\n",
    "       (df, def_bins, 'DEF', labels),\n",
    "       (df, mid_bins, 'MID', labels),\n",
    "       (df, for_bins, 'FWD', labels)\n",
    "       ]\n",
    "\n",
    "#Discretinization function\n",
    "def categorize_price(dataframe, bins, position, labels):\n",
    "    grp = dataframe.groupby(['position']).get_group(position)\n",
    "    grp_prices = grp['price']\n",
    "    grp.loc[:,'price_range'] = pd.cut(grp_prices, bins, labels=labels, right=False)\n",
    "    \n",
    "    grp_lst.append(grp)\n",
    "    return grp\n",
    "\n",
    "#Create grp_list\n",
    "grp_lst = list()\n",
    "\n",
    "for item in tup:\n",
    "    df = item[0]\n",
    "    bins = item[1]\n",
    "    pos = item[2]\n",
    "    labels = item[3]\n",
    "    categorize_price(df, bins, pos, labels)\n",
    "    \n",
    "frames = grp_lst\n",
    "df = pd.concat(frames)\n"
   ]
  },
  {
   "cell_type": "code",
   "execution_count": 41,
   "id": "2c6e44c6",
   "metadata": {
    "scrolled": true
   },
   "outputs": [],
   "source": [
    "#Create labels\n",
    "labels = ['Differential', 'High']\n",
    "\n",
    "#Create bins\n",
    "selected_by = [0.0, 15.0, 99.0]\n",
    "\n",
    "#Create list of tuples\n",
    "tup = (df, selected_by, labels)\n",
    "\n",
    "#Discretinization function\n",
    "def categorize_own(dataframe, bins, labels):\n",
    "    ownership = dataframe['selected_by_percent']\n",
    "    dataframe['ownership'] = pd.cut(ownership, bins, labels=labels, right=False)\n",
    "\n",
    "    return dataframe\n",
    "\n",
    "df = categorize_own(df, selected_by, labels)"
   ]
  },
  {
   "cell_type": "markdown",
   "id": "f4d3dfb8",
   "metadata": {},
   "source": [
    "### Handle missing data"
   ]
  },
  {
   "cell_type": "code",
   "execution_count": 43,
   "id": "9aa03dfb",
   "metadata": {},
   "outputs": [
    {
     "data": {
      "text/html": [
       "<div>\n",
       "<style scoped>\n",
       "    .dataframe tbody tr th:only-of-type {\n",
       "        vertical-align: middle;\n",
       "    }\n",
       "\n",
       "    .dataframe tbody tr th {\n",
       "        vertical-align: top;\n",
       "    }\n",
       "\n",
       "    .dataframe thead th {\n",
       "        text-align: right;\n",
       "    }\n",
       "</style>\n",
       "<table border=\"1\" class=\"dataframe\">\n",
       "  <thead>\n",
       "    <tr style=\"text-align: right;\">\n",
       "      <th></th>\n",
       "      <th>position</th>\n",
       "      <th>team</th>\n",
       "      <th>clean_sheets_per_90</th>\n",
       "      <th>expected_assists_per_90</th>\n",
       "      <th>expected_assists</th>\n",
       "      <th>goals_scored</th>\n",
       "      <th>value_form</th>\n",
       "      <th>value_season</th>\n",
       "      <th>bonus</th>\n",
       "      <th>expected_goals_conceded</th>\n",
       "      <th>...</th>\n",
       "      <th>total_points</th>\n",
       "      <th>expected_goals_per_90</th>\n",
       "      <th>bps</th>\n",
       "      <th>goals_conceded_per_90</th>\n",
       "      <th>selected_by_percent</th>\n",
       "      <th>clean_sheets</th>\n",
       "      <th>price</th>\n",
       "      <th>G+A</th>\n",
       "      <th>price_range</th>\n",
       "      <th>ownership</th>\n",
       "    </tr>\n",
       "  </thead>\n",
       "  <tbody>\n",
       "  </tbody>\n",
       "</table>\n",
       "<p>0 rows × 38 columns</p>\n",
       "</div>"
      ],
      "text/plain": [
       "Empty DataFrame\n",
       "Columns: [position, team, clean_sheets_per_90, expected_assists_per_90, expected_assists, goals_scored, value_form, value_season, bonus, expected_goals_conceded, expected_goals_conceded_per_90, threat, influence, penalties_saved, web_name, creativity, expected_goals, saves, goals_conceded, expected_goal_involvements_per_90, assists, ict_index, form, dreamteam_count, expected_goal_involvements, starts, points_per_game, minutes, total_points, expected_goals_per_90, bps, goals_conceded_per_90, selected_by_percent, clean_sheets, price, G+A, price_range, ownership]\n",
       "Index: []\n",
       "\n",
       "[0 rows x 38 columns]"
      ]
     },
     "execution_count": 43,
     "metadata": {},
     "output_type": "execute_result"
    }
   ],
   "source": [
    "df[df.isnull().any(axis=1)]"
   ]
  },
  {
   "cell_type": "markdown",
   "id": "3019aee8",
   "metadata": {},
   "source": [
    "### Save clean data"
   ]
  },
  {
   "cell_type": "code",
   "execution_count": 44,
   "id": "3e7918fd",
   "metadata": {},
   "outputs": [],
   "source": [
    "df.to_csv('data/22_23_season_data/fpl_clean.csv', index=False)"
   ]
  }
 ],
 "metadata": {
  "interpreter": {
   "hash": "39d6ca181259f28173c4eebf1d46588cfcbb9c81cc8aa78edc727b29340a7c88"
  },
  "kernelspec": {
   "display_name": "Python 3 (ipykernel)",
   "language": "python",
   "name": "python3"
  },
  "language_info": {
   "codemirror_mode": {
    "name": "ipython",
    "version": 3
   },
   "file_extension": ".py",
   "mimetype": "text/x-python",
   "name": "python",
   "nbconvert_exporter": "python",
   "pygments_lexer": "ipython3",
   "version": "3.9.7"
  }
 },
 "nbformat": 4,
 "nbformat_minor": 5
}
